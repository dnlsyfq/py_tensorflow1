{
 "cells": [
  {
   "cell_type": "markdown",
   "metadata": {},
   "source": [
    "* Tensor N-Dimensional Array \n",
    "* Charaterization of Tensors\n",
    "    1. Rank : No. of dimensions in a tensor \n",
    "    2. Shape : No. of elements in each dimension\n",
    "    3. Data type\n",
    "    \n",
    "### Rank\n",
    "\n",
    "|Tensor|Rank|\n",
    "|---|---|\n",
    "|4|0|\n",
    "|[1,2,3]|1|\n",
    "|[[1,2],[3,4]]|2|\n",
    "|[ [ [1],[2] ],[ [3],[4] ] ]|3|\n",
    "\n",
    "\n",
    "### Shape\n",
    "\n",
    "|Tensor|Rank|\n",
    "|---|---|\n",
    "|4|[]|\n",
    "|[1,2,3]|[3]|\n",
    "|[[1,2],[3,4]]|[2,2]|\n",
    "|[ [ [1],[2] ],[ [3],[4] ] ]|[2,2,1]|\n",
    "\n",
    "\n",
    "### Data Type\n",
    "\n",
    "* int\n",
    "* float\n",
    "* string\n",
    "* boolean\n"
   ]
  },
  {
   "cell_type": "markdown",
   "metadata": {},
   "source": [
    "* Rank\n",
    "```\n",
    "rf.rank()\n",
    "```"
   ]
  },
  {
   "cell_type": "code",
   "execution_count": null,
   "metadata": {},
   "outputs": [],
   "source": []
  }
 ],
 "metadata": {
  "kernelspec": {
   "display_name": "Python 3.6.4 64-bit",
   "language": "python",
   "name": "python36464bit49be060b4cd54268b608c867974433c7"
  },
  "language_info": {
   "codemirror_mode": {
    "name": "ipython",
    "version": 3
   },
   "file_extension": ".py",
   "mimetype": "text/x-python",
   "name": "python",
   "nbconvert_exporter": "python",
   "pygments_lexer": "ipython3",
   "version": "3.6.4"
  },
  "latex_envs": {
   "LaTeX_envs_menu_present": true,
   "autoclose": false,
   "autocomplete": true,
   "bibliofile": "biblio.bib",
   "cite_by": "apalike",
   "current_citInitial": 1,
   "eqLabelWithNumbers": true,
   "eqNumInitial": 1,
   "hotkeys": {
    "equation": "Ctrl-E",
    "itemize": "Ctrl-I"
   },
   "labels_anchors": false,
   "latex_user_defs": false,
   "report_style_numbering": false,
   "user_envs_cfg": false
  }
 },
 "nbformat": 4,
 "nbformat_minor": 2
}
