{
 "cells": [
  {
   "cell_type": "markdown",
   "metadata": {},
   "source": [
    "# Rank\n",
    "> Dimensionality of a tensor \n",
    "\n",
    "```\n",
    "Rank Description Example\n",
    "0    Scalar      s = 145\n",
    "1    Vector      v = [1,3,4]\n",
    "2    Matrix      m = [[1,5,6],[5,3,4]]\n",
    "3  3-tensor-cube c = [ [[1,4],[4,3]], [[9,3],[3,4]], [[3,2],[4,4]] ]\n",
    "```"
   ]
  },
  {
   "cell_type": "markdown",
   "metadata": {},
   "source": [
    "# Shape\n",
    "> Shape of data in tensor \n",
    "\n",
    "```\n",
    "Rank Description Example                                                Shape\n",
    "0    Scalar      s = 145                                                 []\n",
    "1    Vector      v = [1,3,4]                                             [5]\n",
    "2    Matrix      m = [[1,5,6],[5,3,4]]                                   [2,3]\n",
    "3  3-tensor-cube c = [ [[1,4],[4,3]], [[9,3],[3,4]], [[3,2],[4,4]] ]     [3,2,3]\n",
    "```"
   ]
  },
  {
   "cell_type": "markdown",
   "metadata": {},
   "source": [
    "# Data Types\n",
    "\n",
    "qint \n",
    "\n",
    "Quantitized values , scaled to reduce size \n",
    "TPU utilize quantitized values "
   ]
  },
  {
   "cell_type": "markdown",
   "metadata": {},
   "source": [
    "# Method \n",
    "\n",
    "```\n",
    "get_shape()\n",
    "reshape()\n",
    "rank\n",
    "dtype\n",
    "cast\n",
    "```"
   ]
  },
  {
   "cell_type": "code",
   "execution_count": null,
   "metadata": {},
   "outputs": [],
   "source": []
  }
 ],
 "metadata": {
  "kernelspec": {
   "display_name": "Python 3.6.4 64-bit",
   "language": "python",
   "name": "python36464bit49be060b4cd54268b608c867974433c7"
  },
  "language_info": {
   "codemirror_mode": {
    "name": "ipython",
    "version": 3
   },
   "file_extension": ".py",
   "mimetype": "text/x-python",
   "name": "python",
   "nbconvert_exporter": "python",
   "pygments_lexer": "ipython3",
   "version": "3.6.4"
  },
  "latex_envs": {
   "LaTeX_envs_menu_present": true,
   "autoclose": false,
   "autocomplete": true,
   "bibliofile": "biblio.bib",
   "cite_by": "apalike",
   "current_citInitial": 1,
   "eqLabelWithNumbers": true,
   "eqNumInitial": 1,
   "hotkeys": {
    "equation": "Ctrl-E",
    "itemize": "Ctrl-I"
   },
   "labels_anchors": false,
   "latex_user_defs": false,
   "report_style_numbering": false,
   "user_envs_cfg": false
  }
 },
 "nbformat": 4,
 "nbformat_minor": 2
}
